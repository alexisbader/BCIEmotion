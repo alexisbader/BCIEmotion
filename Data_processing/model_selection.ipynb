{
 "cells": [
  {
   "cell_type": "code",
   "execution_count": 2,
   "metadata": {},
   "outputs": [],
   "source": [
    "import pandas as pd\n",
    "import matplotlib.pyplot as plt\n",
    "from sklearn import datasets\n",
    "import os"
   ]
  },
  {
   "cell_type": "code",
   "execution_count": 3,
   "metadata": {},
   "outputs": [],
   "source": [
    "import os\n",
    "import pandas as pd\n",
    "\n",
    "def replace_emotion_pos(folder_path):\n",
    "    # List all CSV files in the specified folder\n",
    "    csv_files = [file for file in os.listdir(folder_path) if file.endswith('.csv')]\n",
    "\n",
    "    # Initialize an empty DataFrame to store the merged data\n",
    "    merged_df = pd.DataFrame()\n",
    "\n",
    "    # Iterate through each CSV file\n",
    "    for file in csv_files:\n",
    "        # Read the CSV file into a DataFrame\n",
    "        file_path = os.path.join(folder_path, file)\n",
    "        df = pd.read_csv(file_path)\n",
    "\n",
    "        # Replace 'emotion' with 'positive' in the 'state' column\n",
    "        df.loc[df['state'] == 'emotion', 'state'] = 'positive'\n",
    "\n",
    "        # Concatenate the current DataFrame with the merged DataFrame\n",
    "        merged_df = pd.concat([merged_df, df], ignore_index=True)\n",
    "\n",
    "    # Save the merged DataFrame to a new CSV file\n",
    "    merged_df.to_csv('merged_positive_data.csv', index=False)\n",
    "\n",
    "\n",
    "def replace_emotion_neg(folder_path):\n",
    "    # List all CSV files in the specified folder\n",
    "    csv_files = [file for file in os.listdir(folder_path) if file.endswith('.csv')]\n",
    "\n",
    "    # Initialize an empty DataFrame to store the merged data\n",
    "    merged_df = pd.DataFrame()\n",
    "\n",
    "    # Iterate through each CSV file\n",
    "    for file in csv_files:\n",
    "        # Read the CSV file into a DataFrame\n",
    "        file_path = os.path.join(folder_path, file)\n",
    "        df = pd.read_csv(file_path)\n",
    "\n",
    "        # Replace 'emotion' with 'negative' in the 'state' column\n",
    "        df.loc[df['state'] == 'emotion', 'state'] = 'negative'\n",
    "\n",
    "        # Concatenate the current DataFrame with the merged DataFrame\n",
    "        merged_df = pd.concat([merged_df, df], ignore_index=True)\n",
    "\n",
    "    # Save the merged DataFrame to a new CSV file\n",
    "    merged_df.to_csv('merged_negative_data.csv', index=False)\n",
    "\n",
    "if __name__ == \"__main__\":\n",
    "    folder_path_pos = '/Users/alexisbader/Desktop/446 Data ALL DATA/Positive'  # Specify the folder containing the CSV files\n",
    "    folder_path_neg = '/Users/alexisbader/Desktop/446 Data ALL DATA/Positive'  # Specify the folder containing the CSV files\n",
    "    replace_emotion_pos(folder_path_pos)\n",
    "    replace_emotion_neg(folder_path_neg)\n"
   ]
  },
  {
   "cell_type": "code",
   "execution_count": 4,
   "metadata": {},
   "outputs": [],
   "source": [
    "import pandas as pd\n",
    "\n",
    "def process_csv(positive_file, negative_file):\n",
    "    # Read the positive and negative CSV files into DataFrames\n",
    "    df_positive = pd.read_csv(positive_file)\n",
    "    df_negative = pd.read_csv(negative_file)\n",
    "\n",
    "    # Create new columns for positive, negative, and neutral in the positive DataFrame\n",
    "    df_positive['positive'] = df_positive['state'].apply(lambda x: 1 if x == 'emotion' else 0)\n",
    "    df_positive['negative'] = df_positive['state'].apply(lambda x: 1 if x == 'negative' else 0)\n",
    "    df_positive['neutral'] = df_positive['state'].apply(lambda x: 1 if x == 'neutral' else 0)\n",
    "\n",
    "    # Create new columns for positive, negative, and neutral in the negative DataFrame\n",
    "    df_negative['positive'] = df_negative['state'].apply(lambda x: 1 if x == 'positive' else 0)\n",
    "    df_negative['negative'] = df_negative['state'].apply(lambda x: 1 if x == 'emotion' else 0)\n",
    "    df_negative['neutral'] = df_negative['state'].apply(lambda x: 1 if x == 'neutral' else 0)\n",
    "\n",
    "    # Concatenate positive and negative DataFrames into a single DataFrame\n",
    "    merged_df = pd.concat([df_positive, df_negative], ignore_index=True)\n",
    "\n",
    "    # Save the merged DataFrame to a new CSV file\n",
    "    merged_df.to_csv('merged_data.csv', index=False)\n",
    "\n",
    "if __name__ == \"__main__\":\n",
    "    positive_file_path = 'merged_positive_data.csv'  # Specify the path to the positive CSV file\n",
    "    negative_file_path = 'merged_negative_data.csv'  # Specify the path to the negative CSV file\n",
    "\n",
    "    # Process the positive and negative CSV files and merge the results\n",
    "    process_csv(positive_file_path, negative_file_path)\n"
   ]
  },
  {
   "cell_type": "code",
   "execution_count": 5,
   "metadata": {},
   "outputs": [],
   "source": [
    "# Preprocessing\n",
    "df = pd.read_csv('merged_data.csv') # Converting to dataframe\n",
    "\n",
    "# Dropping neutral data\n",
    "mask = df['state'] != 'neutral'\n",
    "df = df.drop(df.index[~mask])\n",
    "\n",
    "# Encoding nominal data, dropping outdated column names\n",
    "state_mapping = {'negative': 0, 'positive': 1}\n",
    "df['encoded_state'] = df['state'].map(state_mapping)\n",
    "\n",
    "df = df.drop(['positive', 'negative', 'neutral'], axis=1)\n",
    "\n",
    "# print data(feature)shape\n",
    "data = df.drop(['state', 'label', 'encoded_state'], axis=1)\n",
    "target = df['encoded_state']\n"
   ]
  },
  {
   "cell_type": "code",
   "execution_count": 7,
   "metadata": {},
   "outputs": [],
   "source": [
    "# Split dataset into training set and test set\n",
    "from sklearn.model_selection import train_test_split\n",
    "\n",
    "X_train, X_test, y_train, y_test = train_test_split(data, target, test_size=0.2,random_state=109) # 70% training and 30% test"
   ]
  },
  {
   "cell_type": "code",
   "execution_count": 14,
   "metadata": {},
   "outputs": [],
   "source": [
    "# Testing SVM performance\n",
    "from sklearn import svm\n",
    "\n",
    "#Create a svm Classifier\n",
    "clf = svm.SVC(kernel='linear') # Linear Kernel\n",
    "\n",
    "#Train the model using the training sets\n",
    "clf.fit(X_train, y_train)\n",
    "\n",
    "#Predict the response for test dataset\n",
    "svm_pred = clf.predict(X_test)\n",
    "print(\"SVM Accuracy:\",metrics.accuracy_score(y_test, svm_pred))\n"
   ]
  },
  {
   "cell_type": "code",
   "execution_count": 17,
   "metadata": {},
   "outputs": [
    {
     "name": "stdout",
     "output_type": "stream",
     "text": [
      "Logistic Regression Accuracy: 0.8192090395480226\n"
     ]
    }
   ],
   "source": [
    "# Logistic regression\n",
    "from sklearn.linear_model import LogisticRegression\n",
    "from sklearn import metrics\n",
    "\n",
    "model = LogisticRegression(solver='liblinear', penalty='l1')\n",
    "model.fit(X_train, y_train)\n",
    "\n",
    "lg_pred = model.predict(X_test)\n",
    "print(\"Logistic Regression Accuracy:\",metrics.accuracy_score(y_test, lg_pred))"
   ]
  },
  {
   "cell_type": "code",
   "execution_count": 18,
   "metadata": {},
   "outputs": [
    {
     "name": "stdout",
     "output_type": "stream",
     "text": [
      "NB Accuracy: 0.6022598870056497\n"
     ]
    }
   ],
   "source": [
    "# NB Classification\n",
    "from sklearn.naive_bayes import GaussianNB\n",
    "\n",
    "model_nb = GaussianNB()\n",
    "model_nb.fit(X_train, y_train)\n",
    "\n",
    "nb_pred = model_nb.predict(X_test)\n",
    "print(\"NB Accuracy:\",metrics.accuracy_score(y_test, nb_pred))"
   ]
  },
  {
   "cell_type": "code",
   "execution_count": 19,
   "metadata": {},
   "outputs": [
    {
     "name": "stderr",
     "output_type": "stream",
     "text": [
      "/Users/navalan/Documents/GitHub/BCIEmotion/venv/lib/python3.8/site-packages/threadpoolctl.py:1195: RuntimeWarning: libc not found. The ctypes module in Python 3.8 is maybe too old for this OS.\n",
      "  warnings.warn(\n"
     ]
    },
    {
     "name": "stdout",
     "output_type": "stream",
     "text": [
      "{'k': [1, 2, 3, 4, 5, 6, 7, 8, 9, 10, 11, 12, 13, 14, 15, 16, 17, 18, 19], 'accuracy': [0.7480225988700565, 0.7163841807909604, 0.7672316384180791, 0.7344632768361582, 0.7717514124293785, 0.7638418079096045, 0.7694915254237288, 0.7559322033898305, 0.7536723163841808, 0.7559322033898305, 0.7502824858757062, 0.7536723163841808, 0.7638418079096045, 0.7446327683615819, 0.7593220338983051, 0.7446327683615819, 0.7536723163841808, 0.7401129943502824, 0.7548022598870057]}\n"
     ]
    }
   ],
   "source": [
    "# KNN Classification\n",
    "from sklearn.neighbors import KNeighborsClassifier\n",
    "\n",
    "knn_accuracies = {'k': [], 'accuracy': []}\n",
    "for i in range(1, 20):\n",
    "    model_knn = KNeighborsClassifier(n_neighbors=i)\n",
    "    model_knn.fit(X_train, y_train)\n",
    "    knn_accuracies['k'].append(i)\n",
    "    y_pred4 = model_knn.predict(X_test)\n",
    "    knn_accuracies['accuracy'].append(metrics.accuracy_score(y_test, y_pred4))\n",
    "\n",
    "# Calculate the accuracy score\n",
    "print(knn_accuracies) # k=5 is best"
   ]
  },
  {
   "cell_type": "code",
   "execution_count": 10,
   "metadata": {},
   "outputs": [
    {
     "name": "stdout",
     "output_type": "stream",
     "text": [
      "Epoch 1/30\n",
      "178/178 [==============================] - 1s 2ms/step - loss: 1.3091 - accuracy: 0.6868 - val_loss: 0.4661 - val_accuracy: 0.7968\n",
      "Epoch 2/30\n",
      "178/178 [==============================] - 0s 1ms/step - loss: 0.5797 - accuracy: 0.7837 - val_loss: 0.4001 - val_accuracy: 0.8250\n",
      "Epoch 3/30\n",
      "178/178 [==============================] - 0s 1ms/step - loss: 0.5309 - accuracy: 0.8103 - val_loss: 0.3909 - val_accuracy: 0.8299\n",
      "Epoch 4/30\n",
      "178/178 [==============================] - 0s 1ms/step - loss: 0.3972 - accuracy: 0.8407 - val_loss: 0.3300 - val_accuracy: 0.8462\n",
      "Epoch 5/30\n",
      "178/178 [==============================] - 0s 1ms/step - loss: 0.3686 - accuracy: 0.8474 - val_loss: 0.3192 - val_accuracy: 0.8666\n",
      "Epoch 6/30\n",
      "178/178 [==============================] - 0s 1ms/step - loss: 0.3830 - accuracy: 0.8474 - val_loss: 0.3669 - val_accuracy: 0.8560\n",
      "Epoch 7/30\n",
      "178/178 [==============================] - 0s 1ms/step - loss: 0.3396 - accuracy: 0.8594 - val_loss: 0.2791 - val_accuracy: 0.8730\n",
      "Epoch 8/30\n",
      "178/178 [==============================] - 0s 1ms/step - loss: 0.3512 - accuracy: 0.8579 - val_loss: 0.2949 - val_accuracy: 0.8758\n",
      "Epoch 9/30\n",
      "178/178 [==============================] - 0s 1ms/step - loss: 0.3454 - accuracy: 0.8587 - val_loss: 0.4917 - val_accuracy: 0.8243\n",
      "Epoch 10/30\n",
      "178/178 [==============================] - 0s 1ms/step - loss: 0.3018 - accuracy: 0.8770 - val_loss: 0.5854 - val_accuracy: 0.8370\n",
      "Epoch 11/30\n",
      "178/178 [==============================] - 0s 1ms/step - loss: 0.2948 - accuracy: 0.8797 - val_loss: 0.2402 - val_accuracy: 0.8984\n",
      "Epoch 12/30\n",
      "178/178 [==============================] - 0s 1ms/step - loss: 0.2958 - accuracy: 0.8793 - val_loss: 0.2425 - val_accuracy: 0.8913\n",
      "Epoch 13/30\n",
      "178/178 [==============================] - 0s 1ms/step - loss: 0.2426 - accuracy: 0.8991 - val_loss: 0.2450 - val_accuracy: 0.9005\n",
      "Epoch 14/30\n",
      "178/178 [==============================] - 0s 1ms/step - loss: 0.2351 - accuracy: 0.8945 - val_loss: 0.3175 - val_accuracy: 0.8638\n",
      "Epoch 15/30\n",
      "178/178 [==============================] - 0s 2ms/step - loss: 0.2653 - accuracy: 0.8885 - val_loss: 0.2377 - val_accuracy: 0.9040\n",
      "Epoch 16/30\n",
      "178/178 [==============================] - 0s 2ms/step - loss: 0.2321 - accuracy: 0.9052 - val_loss: 0.2319 - val_accuracy: 0.9083\n",
      "Epoch 17/30\n",
      "178/178 [==============================] - 0s 1ms/step - loss: 0.2808 - accuracy: 0.8899 - val_loss: 0.2210 - val_accuracy: 0.9047\n",
      "Epoch 18/30\n",
      "178/178 [==============================] - 0s 1ms/step - loss: 0.2146 - accuracy: 0.9116 - val_loss: 0.2196 - val_accuracy: 0.9111\n",
      "Epoch 19/30\n",
      "178/178 [==============================] - 0s 1ms/step - loss: 0.2474 - accuracy: 0.9077 - val_loss: 0.2187 - val_accuracy: 0.9076\n",
      "Epoch 20/30\n",
      "178/178 [==============================] - 0s 1ms/step - loss: 0.2258 - accuracy: 0.9081 - val_loss: 0.2077 - val_accuracy: 0.9104\n",
      "Epoch 21/30\n",
      "178/178 [==============================] - 0s 1ms/step - loss: 0.1879 - accuracy: 0.9208 - val_loss: 0.2004 - val_accuracy: 0.9153\n",
      "Epoch 22/30\n",
      "178/178 [==============================] - 0s 2ms/step - loss: 0.1894 - accuracy: 0.9199 - val_loss: 0.2771 - val_accuracy: 0.9005\n",
      "Epoch 23/30\n",
      "178/178 [==============================] - 0s 1ms/step - loss: 0.2085 - accuracy: 0.9148 - val_loss: 0.2138 - val_accuracy: 0.9139\n",
      "Epoch 24/30\n",
      "178/178 [==============================] - 0s 1ms/step - loss: 0.2404 - accuracy: 0.9082 - val_loss: 0.2706 - val_accuracy: 0.8850\n",
      "Epoch 25/30\n",
      "178/178 [==============================] - 0s 1ms/step - loss: 0.2276 - accuracy: 0.9114 - val_loss: 0.1891 - val_accuracy: 0.9195\n",
      "Epoch 26/30\n",
      "178/178 [==============================] - 0s 1ms/step - loss: 0.1911 - accuracy: 0.9261 - val_loss: 0.1932 - val_accuracy: 0.9259\n",
      "Epoch 27/30\n",
      "178/178 [==============================] - 0s 1ms/step - loss: 0.1793 - accuracy: 0.9273 - val_loss: 0.1894 - val_accuracy: 0.9224\n",
      "Epoch 28/30\n",
      "178/178 [==============================] - 0s 1ms/step - loss: 0.1791 - accuracy: 0.9340 - val_loss: 0.1974 - val_accuracy: 0.9238\n",
      "Epoch 29/30\n",
      "178/178 [==============================] - 0s 1ms/step - loss: 0.1927 - accuracy: 0.9312 - val_loss: 0.2343 - val_accuracy: 0.9083\n",
      "Epoch 30/30\n",
      "178/178 [==============================] - 0s 1ms/step - loss: 0.1621 - accuracy: 0.9375 - val_loss: 0.1763 - val_accuracy: 0.9280\n",
      "Model: \"sequential_4\"\n",
      "_________________________________________________________________\n",
      " Layer (type)                Output Shape              Param #   \n",
      "=================================================================\n",
      " dense_12 (Dense)            (None, 64)                2624      \n",
      "                                                                 \n",
      " dense_13 (Dense)            (None, 32)                2080      \n",
      "                                                                 \n",
      " dense_14 (Dense)            (None, 1)                 33        \n",
      "                                                                 \n",
      "=================================================================\n",
      "Total params: 4737 (18.50 KB)\n",
      "Trainable params: 4737 (18.50 KB)\n",
      "Non-trainable params: 0 (0.00 Byte)\n",
      "_________________________________________________________________\n"
     ]
    }
   ],
   "source": [
    "## ANN Classifaction\n",
    "import numpy as np\n",
    "from tensorflow import keras\n",
    "\n",
    "ann = keras.Sequential([\n",
    "    keras.layers.Dense(64, activation='relu', input_shape=(40,)), # Input layer has 40 features\n",
    "    keras.layers.Dense(32, activation='relu'),  # Hidden layer with 32 neurons\n",
    "    keras.layers.Dense(1, activation='sigmoid')  # Output layer with 1 neuron (binary classification)\n",
    "])\n",
    "\n",
    "ann.compile(optimizer='adam', loss='MSE', metrics=['accuracy'])\n",
    "ann.fit(X_train, y_train, epochs=30, batch_size=32, validation_split=0.2)\n",
    "\n",
    "test_loss, test_accuracy = ann.evaluate(X_test, y_test)\n",
    "ann.summary()\n",
    "print(\"Test Loss:\", test_loss)\n",
    "print(\"Test Accuracy:\", test_accuracy)"
   ]
  },
  {
   "cell_type": "code",
   "execution_count": 29,
   "metadata": {},
   "outputs": [
    {
     "name": "stdout",
     "output_type": "stream",
     "text": [
      "accuracy val: 0 count: 372/426 = 87.32394366197182%\n",
      "accuracy val: 1 count: 352/459 = 76.68845315904139%\n",
      "val wrong: 0 count: 340\n",
      "val wrong: 1 count: 384\n"
     ]
    }
   ],
   "source": [
    "import numpy as np\n",
    "y_pred = svm_pred\n",
    "\n",
    "np.unique(y_pred)\n",
    "\n",
    "xx = np.where(y_pred == y_test)[0]\n",
    "corr = y_test.iloc[xx]\n",
    "wrong = y_test.iloc[~xx]\n",
    "vals_right, counts_right = np.unique(corr, return_counts=True)\n",
    "vals_wrong, counts_wrong = np.unique(wrong, return_counts=True)\n",
    "vals_real, counts_real = np.unique(y_test, return_counts=True)\n",
    "\n",
    "for i, val in enumerate(vals_right):\n",
    "    print(f\"accuracy val: {val} count: {counts_right[i]}/{counts_real[i]} = {counts_right[i]/counts_real[i] * 100}%\")\n",
    "for i, val in enumerate(vals_wrong):\n",
    "    print(f\"val wrong: {val} count: {counts_wrong[i]}\")\n",
    "\n"
   ]
  },
  {
   "cell_type": "code",
   "execution_count": 31,
   "metadata": {},
   "outputs": [
    {
     "name": "stdout",
     "output_type": "stream",
     "text": [
      "Confusion Matrix:\n",
      "     0    1\n",
      "0  372   54\n",
      "1  107  352\n",
      "Confusion Matrix:\n",
      "[[372  54]\n",
      " [107 352]]\n",
      "\n",
      "True Positives:\n",
      "[372 352]\n",
      "\n",
      "False Positives:\n",
      "[107  54]\n",
      "\n",
      "False Negatives:\n",
      "[ 54 107]\n",
      "\n",
      "True Negatives:\n",
      "[352 372]\n",
      "\n",
      "Accuracy: 81.81%\n"
     ]
    }
   ],
   "source": [
    "from sklearn.metrics import confusion_matrix, accuracy_score\n",
    "\n",
    "# Assuming you have y_pred and y_test\n",
    "# y_pred: Predicted labels\n",
    "# y_test: True labels\n",
    "\n",
    "# Create confusion matrix\n",
    "conf_matrix = confusion_matrix(y_test, y_pred)\n",
    "\n",
    "class_labels = sorted(set(y_test))\n",
    "print(\"Confusion Matrix:\")\n",
    "print(pd.DataFrame(conf_matrix, index=class_labels, columns=class_labels))\n",
    "\n",
    "# Print confusion matrix\n",
    "print(\"Confusion Matrix:\")\n",
    "print(conf_matrix)\n",
    "\n",
    "# Extract true positives, false positives, true negatives, and false negatives\n",
    "true_positives = np.diag(conf_matrix)\n",
    "false_positives = np.sum(conf_matrix, axis=0) - true_positives\n",
    "false_negatives = np.sum(conf_matrix, axis=1) - true_positives\n",
    "true_negatives = np.sum(conf_matrix) - (true_positives + false_positives + false_negatives)\n",
    "\n",
    "# Display additional metrics\n",
    "print(\"\\nTrue Positives:\")\n",
    "print(true_positives)\n",
    "\n",
    "print(\"\\nFalse Positives:\")\n",
    "print(false_positives)\n",
    "\n",
    "print(\"\\nFalse Negatives:\")\n",
    "print(false_negatives)\n",
    "\n",
    "print(\"\\nTrue Negatives:\")\n",
    "print(true_negatives)\n",
    "\n",
    "# Calculate accuracy\n",
    "accuracy = accuracy_score(y_test, y_pred)\n",
    "print(f\"\\nAccuracy: {accuracy * 100:.2f}%\")"
   ]
  }
 ],
 "metadata": {
  "interpreter": {
   "hash": "caf5ea45b0cb7dbaebbe6d3b3ee85fdeddc66f24b3deb7c82d4c887f6e76906e"
  },
  "kernelspec": {
   "display_name": "Python 3.8.8 64-bit ('venv': venv)",
   "name": "python3"
  },
  "language_info": {
   "codemirror_mode": {
    "name": "ipython",
    "version": 3
   },
   "file_extension": ".py",
   "mimetype": "text/x-python",
   "name": "python",
   "nbconvert_exporter": "python",
   "pygments_lexer": "ipython3",
   "version": "3.8.8"
  },
  "orig_nbformat": 4
 },
 "nbformat": 4,
 "nbformat_minor": 2
}
